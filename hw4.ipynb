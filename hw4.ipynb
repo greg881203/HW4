{
 "cells": [
  {
   "cell_type": "code",
   "execution_count": null,
   "source": [
    "def word2():#Gensim 訓練模型\r\n",
    "    train_data = word2vec.LineSentence('test.txt')\r\n",
    "    seed = 666\r\n",
    "    sg = 0\r\n",
    "    window_size = 10\r\n",
    "    vector_size = 100\r\n",
    "    min_count = 1\r\n",
    "    workers = 8\r\n",
    "    epochs = 5\r\n",
    "    batch_words = 10000\r\n",
    "    model = word2vec.Word2Vec(\r\n",
    "        train_data,\r\n",
    "        min_count=min_count,\r\n",
    "        vector_size=vector_size,\r\n",
    "        workers=workers,\r\n",
    "        epochs=epochs,\r\n",
    "        window=window_size,\r\n",
    "        sg=sg,\r\n",
    "        seed=seed,\r\n",
    "        batch_words=batch_words\r\n",
    "    )\r\n",
    "    model.save('word2vec.model')"
   ],
   "outputs": [],
   "metadata": {}
  },
  {
   "cell_type": "code",
   "execution_count": null,
   "source": [],
   "outputs": [],
   "metadata": {}
  },
  {
   "cell_type": "code",
   "execution_count": null,
   "source": [],
   "outputs": [],
   "metadata": {}
  }
 ],
 "metadata": {
  "orig_nbformat": 4,
  "language_info": {
   "name": "python",
   "version": "3.9.6",
   "mimetype": "text/x-python",
   "codemirror_mode": {
    "name": "ipython",
    "version": 3
   },
   "pygments_lexer": "ipython3",
   "nbconvert_exporter": "python",
   "file_extension": ".py"
  },
  "kernelspec": {
   "name": "python3",
   "display_name": "Python 3.9.6 64-bit"
  },
  "interpreter": {
   "hash": "2647ea34e536f865ab67ff9ddee7fd78773d956cec0cab53c79b32cd10da5d83"
  }
 },
 "nbformat": 4,
 "nbformat_minor": 2
}