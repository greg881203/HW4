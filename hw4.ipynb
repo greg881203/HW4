{
 "cells": [
  {
   "cell_type": "code",
   "execution_count": 4,
   "source": [
    "import json\r\n",
    "from opencc import OpenCC\r\n",
    "import jieba\r\n",
    "import re\r\n",
    "from gensim.models import word2vec\r\n"
   ],
   "outputs": [],
   "metadata": {}
  },
  {
   "cell_type": "code",
   "execution_count": null,
   "source": [
    "r = '[）\\（\\：\\·\\，\\。\\“ \\”\\?\\？\\」\\「\\……\\、\\《\\》\\；\\)\\(]'\r\n",
    "file = ['AA','AB','AC','AD','AE','AF','AG','AH','AI','AJ','AK','AL']\r\n",
    "cc = OpenCC('s2t')\r\n",
    "\r\n",
    "def wiki():\r\n",
    "    result =[]\r\n",
    "    for a in file[0:4]:\r\n",
    "        for i in range(100):\r\n",
    "            for line in open('wiki_zh/{}/wiki_{}'.format(a,str(i).zfill(2))):\r\n",
    "                data = json.loads(line)\r\n",
    "                value = re.sub(r,'',data['text'])\r\n",
    "                result.append(value)\r\n",
    "\r\n",
    "    for a in file[5:8]:\r\n",
    "        for i in range(100):\r\n",
    "            for line in open('wiki_zh/{}/wiki_{}'.format(a,str(i).zfill(2))): \r\n",
    "                data = json.loads(line)\r\n",
    "                value = re.sub(r,'',data['text'])\r\n",
    "                result.append(value)\r\n",
    "\r\n",
    "    for a in file[9:11]:\r\n",
    "        for i in range(100):\r\n",
    "            for line in open('wiki_zh/{}/wiki_{}'.format(a,str(i).zfill(2))):\r\n",
    "                data = json.loads(line)\r\n",
    "                value = re.sub(r,'',data['text'])\r\n",
    "                result.append(value)\r\n",
    "\r\n",
    "    for i in range(74):\r\n",
    "        for line in open('wiki_zh/{}/wiki_{}'.format('AM',str(i).zfill(2))):\r\n",
    "            data = json.loads(line)\r\n",
    "            value = re.sub(r,'',data['text'])\r\n",
    "            result.append(value)\r\n",
    "            \r\n",
    "    return result\r\n",
    "    \r\n",
    "result = wiki()\r\n",
    "\r\n",
    "print(len(result))"
   ],
   "outputs": [],
   "metadata": {}
  },
  {
   "cell_type": "code",
   "execution_count": null,
   "source": [
    "def ch(result):\r\n",
    "    value = []\r\n",
    "    for line in result:\r\n",
    "        a = cc.convert(line)\r\n",
    "        value.append(a)\r\n",
    "    return value\r\n",
    "\r\n",
    "value=ch(result)"
   ],
   "outputs": [],
   "metadata": {}
  },
  {
   "cell_type": "code",
   "execution_count": null,
   "source": [
    "def get_list():       \r\n",
    "    with open('wiki_zh/cn_stopwords.txt') as f: \r\n",
    "        stopword_list = [word.strip('\\n') for word in f.readlines()]\r\n",
    "    return stopword_list"
   ],
   "outputs": [],
   "metadata": {}
  },
  {
   "cell_type": "code",
   "execution_count": null,
   "source": [
    "def mktxt(value):\r\n",
    "    stop = get_list()\r\n",
    "    f = open('test1.txt','w')\r\n",
    "\r\n",
    "    print(len(value))\r\n",
    "\r\n",
    "    jieba.set_dictionary('/usr/local/lib/python3.9/site-packages/jieba/dict.txt')\r\n",
    "    jieba.load_userdict(\"txt2.txt\")  \r\n",
    "\r\n",
    "    for line in value :  \r\n",
    "        data = jieba.lcut(line,cut_all=False)\r\n",
    "        for val in data:\r\n",
    "            if val not in stop:\r\n",
    "                f.write(val+' ')\r\n",
    "        # f.write('\\n')\r\n",
    "    f.close\r\n",
    "\r\n",
    "mktxt(value)"
   ],
   "outputs": [],
   "metadata": {}
  },
  {
   "cell_type": "code",
   "execution_count": null,
   "source": [
    "def word2():\r\n",
    "    train_data = word2vec.LineSentence('test.txt')\r\n",
    "    sg = 1\r\n",
    "    vector_size = 300\r\n",
    "    workers = 4\r\n",
    "    epochs = 5\r\n",
    "    model = word2vec.Word2Vec(\r\n",
    "        train_data,\r\n",
    "        vector_size=vector_size,\r\n",
    "        workers=workers,\r\n",
    "        epochs=epochs,\r\n",
    "        sg=sg,\r\n",
    "       \r\n",
    "    )\r\n",
    "    model.save('word2vec.model')\r\n",
    "\r\n"
   ],
   "outputs": [],
   "metadata": {}
  },
  {
   "cell_type": "code",
   "execution_count": 2,
   "source": [
    "def test(string):\r\n",
    "    model = word2vec.Word2Vec.load('word2vec.model')\r\n",
    "    \r\n",
    "\r\n",
    "    for item in model.wv.most_similar(string,topn=20):\r\n",
    "        print(item)"
   ],
   "outputs": [],
   "metadata": {}
  },
  {
   "cell_type": "code",
   "execution_count": 4,
   "source": [
    "word2()\r\n",
    "print('訓練成功！')\r\n",
    "test('地球')"
   ],
   "outputs": [
    {
     "output_type": "stream",
     "name": "stdout",
     "text": [
      "訓練成功！\n",
      "('宇宙', 0.7954114675521851)\n",
      "('外太空', 0.7712037563323975)\n",
      "('太陽系', 0.7702351808547974)\n",
      "('火星', 0.7569582462310791)\n",
      "('母星', 0.7553830146789551)\n",
      "('星球', 0.7486514449119568)\n",
      "('木星', 0.7409071326255798)\n",
      "('冥王星', 0.7394018173217773)\n",
      "('行星', 0.7380729913711548)\n",
      "('太空', 0.7241908311843872)\n",
      "('月球', 0.712673008441925)\n",
      "('太空船', 0.708678126335144)\n",
      "('木衛二', 0.7066769003868103)\n",
      "('河系', 0.7011516094207764)\n",
      "('地球表面', 0.7004419565200806)\n",
      "('星際', 0.6934865117073059)\n",
      "('亞空間', 0.6871092915534973)\n",
      "('水星', 0.6841133236885071)\n",
      "('外星人', 0.6836854219436646)\n",
      "('土星', 0.6808692216873169)\n"
     ]
    }
   ],
   "metadata": {}
  },
  {
   "cell_type": "code",
   "execution_count": null,
   "source": [],
   "outputs": [],
   "metadata": {}
  }
 ],
 "metadata": {
  "orig_nbformat": 4,
  "language_info": {
   "name": "python",
   "version": "3.9.6",
   "mimetype": "text/x-python",
   "codemirror_mode": {
    "name": "ipython",
    "version": 3
   },
   "pygments_lexer": "ipython3",
   "nbconvert_exporter": "python",
   "file_extension": ".py"
  },
  "kernelspec": {
   "name": "python3",
   "display_name": "Python 3.9.6 64-bit"
  },
  "interpreter": {
   "hash": "2647ea34e536f865ab67ff9ddee7fd78773d956cec0cab53c79b32cd10da5d83"
  }
 },
 "nbformat": 4,
 "nbformat_minor": 2
}