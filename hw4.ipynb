{
 "cells": [
  {
   "cell_type": "code",
   "execution_count": null,
   "source": [
    "import re\r\n",
    "import jieba\r\n",
    "import json\r\n",
    "import pandas as pd\r\n",
    "from opencc import OpenCC\r\n",
    "import gensim"
   ],
   "outputs": [],
   "metadata": {}
  },
  {
   "cell_type": "code",
   "execution_count": null,
   "source": [
    "def wiki():\r\n",
    "    cc = OpenCC('s2twp')#簡體中文 -> 繁體中文 (台灣, 包含慣用詞轉換)\r\n",
    "    result =[]\r\n",
    "    file = ['AA','AB','AC','AD','AE','AF','AG','AH','AI','AJ','AK','AL']\r\n",
    "    for a in file:\r\n",
    "        for i in range(100):\r\n",
    "            if i <10:\r\n",
    "                with open('/User/Desktop/wiki_zh/'+a+'/wiki_0'+str(i)) as f:\r\n",
    "                    line = f.readline()\r\n",
    "                    line = cc.convert(line)\r\n",
    "                    line = re.sub(\"[）\\（\\：\\·\\，\\。\\“ \\”\\?\\？\\」\\「\\……\\、\\《\\》\\；\\)\\(]\",'',line)\r\n",
    "                    result.append(json.loads(line))\r\n",
    "            else:\r\n",
    "                with open('/User/Desktop/wiki_zh/'+a+'/wiki_'+str(i)) as f:\r\n",
    "                    line = f.readline()\r\n",
    "                    line = cc.convert(line)\r\n",
    "                    line = re.sub(\"[）\\（\\：\\·\\，\\。\\“ \\”\\?\\？\\」\\「\\……\\、\\《\\》\\；\\)\\(]\",'',line)\r\n",
    "                    result.append(json.loads(line))\r\n",
    "    for i in range(74):\r\n",
    "        if i <10:\r\n",
    "            with open('/User/Desktop/wiki_zh/AM/wiki_0'+str(i)) as f:\r\n",
    "                line = f.readline() \r\n",
    "                line = cc.convert(line)\r\n",
    "                line = re.sub(\"[）\\（\\：\\·\\，\\。\\“ \\”\\?\\？\\」\\「\\……\\、\\《\\》\\；\\)\\(]\",'',line)\r\n",
    "                result.append(json.loads(line))\r\n",
    "        else:\r\n",
    "            with open('/User/Desktop/wiki_zh/AM/wiki_'+str(i)) as f:\r\n",
    "                line = f.readline()\r\n",
    "                line = cc.convert(line)\r\n",
    "                line = re.sub(\"[）\\（\\：\\·\\，\\。\\“ \\”\\?\\？\\」\\「\\……\\、\\《\\》\\；\\)\\(]\",'',line)\r\n",
    "                result.append(json.loads(line))\r\n",
    "    return result"
   ],
   "outputs": [],
   "metadata": {}
  },
  {
   "cell_type": "code",
   "execution_count": null,
   "source": [
    "def get_list():       \r\n",
    "    with open('/Users/Desktop/cn_stopwords.txt') as f: \r\n",
    "        stopword_list = [word.strip('\\n') for word in f.readlines()]\r\n",
    "    return stopword_list"
   ],
   "outputs": [],
   "metadata": {}
  },
  {
   "cell_type": "code",
   "execution_count": null,
   "source": [
    "def word2():#Gensim 訓練模型\r\n",
    "    train_data = word2vec.LineSentence('test.txt')\r\n",
    "    seed = 666\r\n",
    "    sg = 0\r\n",
    "    window_size = 10\r\n",
    "    vector_size = 100\r\n",
    "    min_count = 1\r\n",
    "    workers = 8\r\n",
    "    epochs = 5\r\n",
    "    batch_words = 10000\r\n",
    "    model = word2vec.Word2Vec(\r\n",
    "        train_data,\r\n",
    "        min_count=min_count,\r\n",
    "        vector_size=vector_size,\r\n",
    "        workers=workers,\r\n",
    "        epochs=epochs,\r\n",
    "        window=window_size,\r\n",
    "        sg=sg,\r\n",
    "        seed=seed,\r\n",
    "        batch_words=batch_words\r\n",
    "    )\r\n",
    "    model.save('word2vec.model')"
   ],
   "outputs": [],
   "metadata": {}
  },
  {
   "cell_type": "code",
   "execution_count": null,
   "source": [
    "from gensim.models import word2vec #測試模型效果\r\n",
    "\r\n",
    "model = word2vec.Word2Vec.load('word2vec.model')\r\n",
    "print(model.wv['生物'].shape)\r\n",
    "\r\n",
    "for item in model.wv.most_similar('生物'):\r\n",
    "    print(item)\r\n"
   ],
   "outputs": [],
   "metadata": {}
  },
  {
   "cell_type": "code",
   "execution_count": null,
   "source": [],
   "outputs": [],
   "metadata": {}
  }
 ],
 "metadata": {
  "orig_nbformat": 4,
  "language_info": {
   "name": "python",
   "version": "3.9.6",
   "mimetype": "text/x-python",
   "codemirror_mode": {
    "name": "ipython",
    "version": 3
   },
   "pygments_lexer": "ipython3",
   "nbconvert_exporter": "python",
   "file_extension": ".py"
  },
  "kernelspec": {
   "name": "python3",
   "display_name": "Python 3.9.6 64-bit"
  },
  "interpreter": {
   "hash": "2647ea34e536f865ab67ff9ddee7fd78773d956cec0cab53c79b32cd10da5d83"
  }
 },
 "nbformat": 4,
 "nbformat_minor": 2
}