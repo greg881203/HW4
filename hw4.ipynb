{
 "cells": [
  {
   "cell_type": "code",
   "execution_count": 4,
   "source": [
    "import json\n",
    "from opencc import OpenCC\n",
    "import jieba\n",
    "import re\n",
    "from gensim.models import word2vec\n"
   ],
   "outputs": [],
   "metadata": {}
  },
  {
   "cell_type": "code",
   "execution_count": null,
   "source": [
    "r = '[）\\（\\：\\·\\，\\。\\“ \\”\\?\\？\\」\\「\\……\\、\\《\\》\\；\\)\\(]'\n",
    "file = ['AA','AB','AC','AD','AE','AF','AG','AH','AI','AJ','AK','AL']\n",
    "cc = OpenCC('s2t')\n",
    "\n",
    "def open_wiki():\n",
    "    result =[]\n",
    "    for a in file[0:4]:\n",
    "        for i in range(100):\n",
    "            for line in open('wiki_zh/{}/wiki_{}'.format(a,str(i).zfill(2))):\n",
    "                data = json.loads(line)\n",
    "                value = re.sub(r,'',data['text'])\n",
    "                result.append(value)\n",
    "\n",
    "    for a in file[5:8]:\n",
    "        for i in range(100):\n",
    "            for line in open('wiki_zh/{}/wiki_{}'.format(a,str(i).zfill(2))): \n",
    "                data = json.loads(line)\n",
    "                value = re.sub(r,'',data['text'])\n",
    "                result.append(value)\n",
    "\n",
    "    for a in file[9:11]:\n",
    "        for i in range(100):\n",
    "            for line in open('wiki_zh/{}/wiki_{}'.format(a,str(i).zfill(2))):\n",
    "                data = json.loads(line)\n",
    "                value = re.sub(r,'',data['text'])\n",
    "                result.append(value)\n",
    "\n",
    "    for i in range(74):\n",
    "        for line in open('wiki_zh/{}/wiki_{}'.format('AM',str(i).zfill(2))):\n",
    "            data = json.loads(line)\n",
    "            value = re.sub(r,'',data['text'])\n",
    "            result.append(value)\n",
    "            \n",
    "    return result\n",
    "    \n",
    "result = open_wiki()\n",
    "\n",
    "print(len(result))"
   ],
   "outputs": [],
   "metadata": {}
  },
  {
   "cell_type": "code",
   "execution_count": null,
   "source": [
    "def chine(result):\n",
    "    value = []\n",
    "    for line in result:\n",
    "        a = cc.convert(line)\n",
    "        value.append(a)\n",
    "    return value\n",
    "\n",
    "value=chine(result)"
   ],
   "outputs": [],
   "metadata": {}
  },
  {
   "cell_type": "code",
   "execution_count": null,
   "source": [
    "def get_stopword_list():       \n",
    "    with open('wiki_zh/cn_stopwords.txt') as f: \n",
    "        stopword_list = [word.strip('\\n') for word in f.readlines()]\n",
    "    return stopword_list"
   ],
   "outputs": [],
   "metadata": {}
  },
  {
   "cell_type": "code",
   "execution_count": null,
   "source": [
    "def macktxt(value):\n",
    "    stop = get_stopword_list()\n",
    "    f = open('test1.txt','w')\n",
    "\n",
    "    print(len(value))\n",
    "\n",
    "    jieba.set_dictionary('/usr/local/lib/python3.9/site-packages/jieba/dict.txt')\n",
    "    jieba.load_userdict(\"txt2.txt\")  \n",
    "\n",
    "    for line in value :  \n",
    "        data = jieba.lcut(line,cut_all=False)\n",
    "        for val in data:\n",
    "            if val not in stop:\n",
    "                f.write(val+' ')\n",
    "        # f.write('\\n')\n",
    "    f.close\n",
    "\n",
    "macktxt(value)"
   ],
   "outputs": [],
   "metadata": {}
  },
  {
   "cell_type": "code",
   "execution_count": null,
   "source": [
    "def word2():\n",
    "    train_data = word2vec.LineSentence('test.txt')\n",
    "    # seed = 666\n",
    "    sg = 1\n",
    "    # window_size = 10\n",
    "    vector_size = 300\n",
    "    # min_count = 1\n",
    "    workers = 4\n",
    "    epochs = 5\n",
    "    # batch_words = 10000\n",
    "    model = word2vec.Word2Vec(\n",
    "        train_data,\n",
    "        # min_count=min_count,\n",
    "        vector_size=vector_size,\n",
    "        workers=workers,\n",
    "        epochs=epochs,\n",
    "        # window=window_size,\n",
    "        sg=sg,\n",
    "        # seed=seed,\n",
    "        # batch_words=batch_words\n",
    "    )\n",
    "    model.save('word2vec.model')\n",
    "\n"
   ],
   "outputs": [],
   "metadata": {}
  },
  {
   "cell_type": "code",
   "execution_count": 2,
   "source": [
    "def test(string):\n",
    "    model = word2vec.Word2Vec.load('word2vec.model')\n",
    "    # print(model.wv['生物'].shape)\n",
    "\n",
    "    for item in model.wv.most_similar(string,topn=20):\n",
    "        print(item)"
   ],
   "outputs": [],
   "metadata": {}
  },
  {
   "cell_type": "code",
   "execution_count": 4,
   "source": [
    "word2()\n",
    "print('訓練成功！')\n",
    "test('地球')"
   ],
   "outputs": [
    {
     "output_type": "stream",
     "name": "stdout",
     "text": [
      "訓練成功！\n",
      "('宇宙', 0.7954114675521851)\n",
      "('外太空', 0.7712037563323975)\n",
      "('太陽系', 0.7702351808547974)\n",
      "('火星', 0.7569582462310791)\n",
      "('母星', 0.7553830146789551)\n",
      "('星球', 0.7486514449119568)\n",
      "('木星', 0.7409071326255798)\n",
      "('冥王星', 0.7394018173217773)\n",
      "('行星', 0.7380729913711548)\n",
      "('太空', 0.7241908311843872)\n",
      "('月球', 0.712673008441925)\n",
      "('太空船', 0.708678126335144)\n",
      "('木衛二', 0.7066769003868103)\n",
      "('河系', 0.7011516094207764)\n",
      "('地球表面', 0.7004419565200806)\n",
      "('星際', 0.6934865117073059)\n",
      "('亞空間', 0.6871092915534973)\n",
      "('水星', 0.6841133236885071)\n",
      "('外星人', 0.6836854219436646)\n",
      "('土星', 0.6808692216873169)\n"
     ]
    }
   ],
   "metadata": {}
  },
  {
   "cell_type": "code",
   "execution_count": 7,
   "source": [
    "test('SuperJunior')"
   ],
   "outputs": [
    {
     "output_type": "stream",
     "name": "stdout",
     "text": [
      "('GOT7', 0.8827243447303772)\n",
      "('EXO', 0.8793410062789917)\n",
      "('NU', 0.8497639298439026)\n",
      "('SS501', 0.8467358350753784)\n",
      "('2PM', 0.8367975354194641)\n",
      "('EST', 0.8356223106384277)\n",
      "('CNBLUE', 0.8336243629455566)\n",
      "('SISTAR', 0.826249897480011)\n",
      "('iKON', 0.8260583877563477)\n",
      "('AfterSchool', 0.8257550597190857)\n",
      "('EXID', 0.8227468132972717)\n",
      "('SHINee', 0.8206942081451416)\n",
      "('BIGBANG', 0.8200986981391907)\n",
      "('2NE1', 0.8177193403244019)\n",
      "('RedVelvet', 0.8100519180297852)\n",
      "('BoA', 0.8099263906478882)\n",
      "('BTOB', 0.8086225986480713)\n",
      "('ara', 0.8077305555343628)\n",
      "('Solo', 0.8008803129196167)\n",
      "('Happy', 0.7964335680007935)\n"
     ]
    }
   ],
   "metadata": {}
  },
  {
   "cell_type": "code",
   "execution_count": null,
   "source": [],
   "outputs": [],
   "metadata": {}
  }
 ],
 "metadata": {
  "orig_nbformat": 4,
  "language_info": {
   "name": "python",
   "version": "3.9.5",
   "mimetype": "text/x-python",
   "codemirror_mode": {
    "name": "ipython",
    "version": 3
   },
   "pygments_lexer": "ipython3",
   "nbconvert_exporter": "python",
   "file_extension": ".py"
  },
  "kernelspec": {
   "name": "python3",
   "display_name": "Python 3.9.5 64-bit"
  },
  "interpreter": {
   "hash": "aee8b7b246df8f9039afb4144a1f6fd8d2ca17a180786b69acc140d282b71a49"
  }
 },
 "nbformat": 4,
 "nbformat_minor": 2
}